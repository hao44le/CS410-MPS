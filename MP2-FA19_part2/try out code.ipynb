{
 "cells": [
  {
   "cell_type": "code",
   "execution_count": 1,
   "metadata": {},
   "outputs": [],
   "source": [
    "import metapy"
   ]
  },
  {
   "cell_type": "code",
   "execution_count": 2,
   "metadata": {},
   "outputs": [],
   "source": [
    "idx = metapy.index.make_inverted_index('config.toml')"
   ]
  },
  {
   "cell_type": "code",
   "execution_count": 3,
   "metadata": {},
   "outputs": [
    {
     "data": {
      "text/plain": [
       "1400"
      ]
     },
     "execution_count": 3,
     "metadata": {},
     "output_type": "execute_result"
    }
   ],
   "source": [
    "# Examine number of documents\n",
    "idx.num_docs()\n"
   ]
  },
  {
   "cell_type": "code",
   "execution_count": 4,
   "metadata": {},
   "outputs": [
    {
     "data": {
      "text/plain": [
       "4137"
      ]
     },
     "execution_count": 4,
     "metadata": {},
     "output_type": "execute_result"
    }
   ],
   "source": [
    "# Number of unique terms in the dataset\n",
    "idx.unique_terms()\n"
   ]
  },
  {
   "cell_type": "code",
   "execution_count": 5,
   "metadata": {},
   "outputs": [
    {
     "data": {
      "text/plain": [
       "87.17857360839844"
      ]
     },
     "execution_count": 5,
     "metadata": {},
     "output_type": "execute_result"
    }
   ],
   "source": [
    "# The average document length\n",
    "idx.avg_doc_length()\n"
   ]
  },
  {
   "cell_type": "code",
   "execution_count": 6,
   "metadata": {},
   "outputs": [
    {
     "data": {
      "text/plain": [
       "122050"
      ]
     },
     "execution_count": 6,
     "metadata": {},
     "output_type": "execute_result"
    }
   ],
   "source": [
    "# The total number of terms\n",
    "idx.total_corpus_terms()\n"
   ]
  },
  {
   "cell_type": "code",
   "execution_count": 11,
   "metadata": {},
   "outputs": [
    {
     "name": "stdout",
     "output_type": "stream",
     "text": [
      "Query 1 average precision: 0.24166666666666664\n",
      "Query 2 average precision: 0.4196428571428571\n",
      "Query 3 average precision: 0.6383928571428572\n",
      "Query 4 average precision: 0.25\n",
      "Query 5 average precision: 0.3333333333333333\n",
      "Query 6 average precision: 0.125\n",
      "Query 7 average precision: 0.11666666666666665\n",
      "Query 8 average precision: 0.1\n",
      "Query 9 average precision: 0.6388888888888888\n",
      "Query 10 average precision: 0.0625\n",
      "Query 11 average precision: 0.09285714285714286\n",
      "Query 12 average precision: 0.18\n",
      "Query 13 average precision: 0.0\n",
      "Query 14 average precision: 0.5\n",
      "Query 15 average precision: 1.0\n",
      "Query 16 average precision: 0.16666666666666666\n",
      "Query 17 average precision: 0.08333333333333333\n",
      "Query 18 average precision: 0.3333333333333333\n",
      "Query 19 average precision: 0.0\n",
      "Query 20 average precision: 0.4302469135802469\n",
      "Query 21 average precision: 0.0\n",
      "Query 22 average precision: 0.0\n",
      "Query 23 average precision: 0.19952380952380952\n",
      "Query 24 average precision: 0.3333333333333333\n",
      "Query 25 average precision: 0.6507936507936507\n",
      "Query 26 average precision: 0.19444444444444442\n",
      "Query 27 average precision: 0.12962962962962962\n",
      "Query 28 average precision: 0.0\n",
      "Query 29 average precision: 0.35\n",
      "Query 30 average precision: 0.023809523809523808\n",
      "Query 31 average precision: 0.0\n",
      "Query 32 average precision: 0.1111111111111111\n",
      "Query 33 average precision: 0.6388888888888888\n",
      "Query 34 average precision: 0.1111111111111111\n",
      "Query 35 average precision: 0.0\n",
      "Query 36 average precision: 0.5\n",
      "Query 37 average precision: 0.0\n",
      "Query 38 average precision: 0.0\n",
      "Query 39 average precision: 0.1\n",
      "Query 40 average precision: 0.045\n",
      "Query 41 average precision: 0.6666666666666666\n",
      "Query 42 average precision: 0.16714285714285712\n",
      "Query 43 average precision: 0.4583333333333333\n",
      "Query 44 average precision: 0.0\n",
      "Query 45 average precision: 0.1\n",
      "Query 46 average precision: 0.4058333333333334\n",
      "Query 47 average precision: 0.27341269841269844\n",
      "Query 48 average precision: 0.17666666666666667\n",
      "Query 49 average precision: 0.1\n",
      "Query 50 average precision: 0.05555555555555555\n",
      "Query 51 average precision: 0.4730952380952381\n",
      "Query 52 average precision: 0.47916666666666663\n",
      "Query 53 average precision: 0.15222222222222223\n",
      "Query 54 average precision: 0.05555555555555555\n",
      "Query 55 average precision: 0.19444444444444445\n",
      "Query 56 average precision: 0.1\n",
      "Query 57 average precision: 0.03333333333333333\n",
      "Query 58 average precision: 0.0380952380952381\n",
      "Query 59 average precision: 0.027777777777777776\n",
      "Query 60 average precision: 0.42000000000000004\n",
      "Query 61 average precision: 0.5638888888888889\n",
      "Query 62 average precision: 0.0\n",
      "Query 63 average precision: 0.0\n",
      "Query 64 average precision: 0.5\n",
      "Query 65 average precision: 0.24\n",
      "Query 66 average precision: 0.02857142857142857\n",
      "Query 67 average precision: 0.575\n",
      "Query 68 average precision: 0.04\n",
      "Query 69 average precision: 0.02857142857142857\n",
      "Query 70 average precision: 0.05\n",
      "Query 71 average precision: 0.017857142857142856\n",
      "Query 72 average precision: 0.12\n",
      "Query 73 average precision: 0.4680952380952381\n",
      "Query 74 average precision: 0.020833333333333332\n",
      "Query 75 average precision: 0.0\n",
      "Query 76 average precision: 0.07142857142857142\n",
      "Query 77 average precision: 0.2333333333333333\n",
      "Query 78 average precision: 0.7222222222222222\n",
      "Query 79 average precision: 0.0\n",
      "Query 80 average precision: 0.0\n",
      "Query 81 average precision: 0.75\n",
      "Query 82 average precision: 0.24\n",
      "Query 83 average precision: 0.0625\n",
      "Query 84 average precision: 0.3\n",
      "Query 85 average precision: 0.25\n",
      "Query 86 average precision: 0.5833333333333333\n",
      "Query 87 average precision: 0.0\n",
      "Query 88 average precision: 0.6496031746031746\n",
      "Query 89 average precision: 0.05555555555555555\n",
      "Query 90 average precision: 0.15607142857142856\n",
      "Query 91 average precision: 0.2577160493827161\n",
      "Query 92 average precision: 0.5014285714285714\n",
      "Query 93 average precision: 0.5\n",
      "Query 94 average precision: 0.5264285714285715\n",
      "Query 95 average precision: 0.5\n",
      "Query 96 average precision: 0.38976190476190475\n",
      "Query 97 average precision: 0.15416666666666665\n",
      "Query 98 average precision: 0.0\n",
      "Query 99 average precision: 0.18333333333333335\n",
      "Query 100 average precision: 0.16666666666666663\n",
      "Query 101 average precision: 0.6958333333333333\n",
      "Query 102 average precision: 0.3214285714285714\n",
      "Query 103 average precision: 0.0\n",
      "Query 104 average precision: 0.06666666666666667\n",
      "Query 105 average precision: 0.3833333333333333\n",
      "Query 106 average precision: 0.38571428571428573\n",
      "Query 107 average precision: 0.17261904761904762\n",
      "Query 108 average precision: 0.5901360544217686\n",
      "Query 109 average precision: 0.0\n",
      "Query 110 average precision: 0.125\n",
      "Query 111 average precision: 0.08333333333333333\n",
      "Query 112 average precision: 0.25\n",
      "Query 113 average precision: 0.08333333333333333\n",
      "Query 114 average precision: 0.0\n",
      "Query 115 average precision: 0.05\n",
      "Query 116 average precision: 0.05\n",
      "Query 117 average precision: 0.0\n",
      "Query 118 average precision: 0.21666666666666667\n",
      "Query 119 average precision: 1.0\n",
      "Query 120 average precision: 0.39589947089947086\n",
      "Query 121 average precision: 0.369047619047619\n",
      "Query 122 average precision: 0.21164021164021163\n",
      "Query 123 average precision: 0.0\n",
      "Query 124 average precision: 0.0\n",
      "Query 125 average precision: 0.2095238095238095\n",
      "Query 126 average precision: 0.20833333333333331\n",
      "Query 127 average precision: 0.05\n",
      "Query 128 average precision: 0.0\n",
      "Query 129 average precision: 0.369047619047619\n",
      "Query 130 average precision: 0.5\n",
      "Query 131 average precision: 0.10238095238095238\n",
      "Query 132 average precision: 0.48476190476190484\n",
      "Query 133 average precision: 0.05215419501133787\n",
      "Query 134 average precision: 0.25\n",
      "Query 135 average precision: 0.3839285714285714\n",
      "Query 136 average precision: 0.3333333333333333\n",
      "Query 137 average precision: 0.225\n",
      "Query 138 average precision: 0.1\n",
      "Query 139 average precision: 0.0\n",
      "Query 140 average precision: 0.13888888888888887\n",
      "Query 141 average precision: 0.075\n",
      "Query 142 average precision: 0.0\n",
      "Query 143 average precision: 0.7\n",
      "Query 144 average precision: 0.28439153439153436\n",
      "Query 145 average precision: 0.21995464852607707\n",
      "Query 146 average precision: 0.5833333333333333\n",
      "Query 147 average precision: 0.22666666666666666\n",
      "Query 148 average precision: 0.16666666666666666\n",
      "Query 149 average precision: 0.24861111111111106\n",
      "Query 150 average precision: 0.8333333333333333\n",
      "Query 151 average precision: 0.0\n",
      "Query 152 average precision: 0.0\n",
      "Query 153 average precision: 0.2738095238095238\n",
      "Query 154 average precision: 0.8333333333333333\n",
      "Query 155 average precision: 0.125\n",
      "Query 156 average precision: 0.5607142857142857\n",
      "Query 157 average precision: 0.29861111111111105\n",
      "Query 158 average precision: 0.3625\n",
      "Query 159 average precision: 0.043402777777777776\n",
      "Query 160 average precision: 0.1\n",
      "Query 161 average precision: 0.5\n",
      "Query 162 average precision: 0.10416666666666666\n",
      "Query 163 average precision: 0.24444444444444446\n",
      "Query 164 average precision: 0.31805555555555554\n",
      "Query 165 average precision: 0.5833333333333333\n",
      "Query 166 average precision: 0.013888888888888888\n",
      "Query 167 average precision: 0.5\n",
      "Query 168 average precision: 0.08333333333333333\n",
      "Query 169 average precision: 0.25\n",
      "Query 170 average precision: 0.5694444444444444\n",
      "Query 171 average precision: 0.6388888888888888\n",
      "Query 172 average precision: 0.6791666666666667\n",
      "Query 173 average precision: 1.0\n",
      "Query 174 average precision: 0.03333333333333333\n",
      "Query 175 average precision: 0.02\n",
      "Query 176 average precision: 0.0\n",
      "Query 177 average precision: 0.5888888888888889\n",
      "Query 178 average precision: 0.3333333333333333\n",
      "Query 179 average precision: 0.29166666666666663\n",
      "Query 180 average precision: 0.33095238095238094\n",
      "Query 181 average precision: 0.2\n",
      "Query 182 average precision: 0.5833333333333333\n",
      "Query 183 average precision: 0.5580952380952381\n",
      "Query 184 average precision: 0.21428571428571427\n",
      "Query 185 average precision: 0.6388888888888888\n",
      "Query 186 average precision: 0.16619047619047617\n",
      "Query 187 average precision: 0.13888888888888887\n",
      "Query 188 average precision: 0.3196428571428571\n",
      "Query 189 average precision: 0.05952380952380952\n",
      "Query 190 average precision: 0.3\n",
      "Query 191 average precision: 0.05333333333333333\n",
      "Query 192 average precision: 0.5666666666666667\n",
      "Query 193 average precision: 0.8282627865961198\n",
      "Query 194 average precision: 0.041666666666666664\n",
      "Query 195 average precision: 0.05555555555555555\n",
      "Query 196 average precision: 0.11666666666666665\n",
      "Query 197 average precision: 0.5555555555555555\n",
      "Query 198 average precision: 0.44375\n",
      "Query 199 average precision: 0.025\n",
      "Query 200 average precision: 0.1851851851851852\n",
      "Query 201 average precision: 0.3583333333333333\n",
      "Query 202 average precision: 0.19166666666666665\n",
      "Query 203 average precision: 0.1595238095238095\n",
      "Query 204 average precision: 0.0\n",
      "Query 205 average precision: 0.75\n",
      "Query 206 average precision: 0.2619047619047619\n",
      "Query 207 average precision: 0.14444444444444443\n",
      "Query 208 average precision: 0.6916666666666668\n",
      "Query 209 average precision: 0.05555555555555556\n",
      "Query 210 average precision: 0.27777777777777773\n",
      "Query 211 average precision: 0.0125\n",
      "Query 212 average precision: 0.4891666666666666\n",
      "Query 213 average precision: 0.4625\n",
      "Query 214 average precision: 0.125\n",
      "Query 215 average precision: 0.0\n",
      "Query 216 average precision: 0.0\n",
      "Query 217 average precision: 0.2\n",
      "Query 218 average precision: 0.24285714285714283\n",
      "Query 219 average precision: 0.0\n",
      "Query 220 average precision: 0.13333333333333333\n",
      "Query 221 average precision: 0.275\n",
      "Query 222 average precision: 0.5978835978835979\n",
      "Query 223 average precision: 0.44166666666666665\n",
      "Query 224 average precision: 0.04285714285714286\n",
      "Query 225 average precision: 0.1775\n"
     ]
    },
    {
     "data": {
      "text/plain": [
       "0.25511867318944054"
      ]
     },
     "execution_count": 11,
     "metadata": {},
     "output_type": "execute_result"
    }
   ],
   "source": [
    "import pytoml\n",
    "# Build the query object and initialize a ranker\n",
    "query = metapy.index.Document()\n",
    "ranker = metapy.index.OkapiBM25(k1=1.2,b=0.75,k3=500)\n",
    "# To do an IR evaluation, we need to use the queries file and relevance judgements.\n",
    "ev = metapy.index.IREval('config.toml')\n",
    "# Load the query_start from config.toml or default to zero if not found\n",
    "with open('config.toml', 'r') as fin:\n",
    "        cfg_d = pytoml.load(fin)\n",
    "query_cfg = cfg_d['query-runner']\n",
    "query_start = query_cfg.get('query-id-start', 0)\n",
    "# We will loop over the queries file and add each result to the IREval object ev.\n",
    "num_results = 10\n",
    "with open('cranfield-queries.txt') as query_file:\n",
    "    for query_num, line in enumerate(query_file):\n",
    "        query.content(line.strip())\n",
    "        results = ranker.score(idx, query, num_results)                            \n",
    "        avg_p = ev.avg_p(results, query_start + query_num, num_results)\n",
    "        print(\"Query {} average precision: {}\".format(query_num + 1, avg_p))\n",
    "ev.map()\n",
    "\n"
   ]
  },
  {
   "cell_type": "code",
   "execution_count": null,
   "metadata": {},
   "outputs": [],
   "source": []
  }
 ],
 "metadata": {
  "kernelspec": {
   "display_name": "Python 3",
   "language": "python",
   "name": "python3"
  },
  "language_info": {
   "codemirror_mode": {
    "name": "ipython",
    "version": 3
   },
   "file_extension": ".py",
   "mimetype": "text/x-python",
   "name": "python",
   "nbconvert_exporter": "python",
   "pygments_lexer": "ipython3",
   "version": "3.7.3"
  }
 },
 "nbformat": 4,
 "nbformat_minor": 2
}
